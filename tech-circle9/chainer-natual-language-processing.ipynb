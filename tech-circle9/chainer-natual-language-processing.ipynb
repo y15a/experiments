{
 "cells": [
  {
   "cell_type": "markdown",
   "metadata": {},
   "source": [
    "# Introduction\n",
    "[Chainer](http://chainer.org/) とはニューラルネットの実装を簡単にしたフレームワークです。\n",
    "\n",
    "* 今回は言語の分野でニューラルネットを適用してみました。\n",
    "\n",
    "![](./pictures/Chainer.jpg)\n",
    "\n",
    "* 今回は言語モデルを作成していただきます。\n",
    "\n",
    "\n",
    "言語モデルとはある単語が来たときに次の単語に何が来やすいかを予測するものです。\n",
    "\n",
    "言語モデルにはいくつか種類があるのでここでも紹介しておきます。\n",
    "\n",
    "* n-グラム言語モデル\n",
    " * 単語の数を単純に数え挙げて作成されるモデル。考え方としてはデータにおけるある単語の頻度に近い\n",
    "* ニューラル言語モデル\n",
    " * 単語の辞書ベクトルを潜在空間ベクトルに落とし込み、ニューラルネットで次の文字を学習させる手法\n",
    "\n",
    "* リカレントニューラル言語モデル\n",
    " * 基本的なアルゴリズムはニューラル言語モデルと同一だが過去に使用した単語を入力に加えることによって文脈を考慮した言語モデルの学習が可能となる。ニューラル言語モデルとは異なり、より古い情報も取得可能\n",
    "\n",
    "以下では、このChainerを利用しデータを準備するところから実際に言語モデルを構築し学習・評価を行うまでの手順を解説します。\n",
    "\n",
    "1. [各種ライブラリ導入](#各種ライブラリ導入) \n",
    "2. [初期設定](#初期設定) \n",
    "3. [データ入力](#データ入力)\n",
    "4. [リカレントニューラル言語モデル設定](#リカレントニューラル言語モデル設定(ハンズオン）) \n",
    "5. [学習を始める前の設定](#学習を始める前の設定)\n",
    "6. [パラメータ更新方法](#パラメータ更新方法（ミニバッチ学習）)\n",
    "7. [言語の予測](#言語の予測)\n",
    "\n",
    "もしGPUを使用したい方は、以下にまとめてあるのでご参考ください。\n",
    "\n",
    "[Chainer を用いてリカレントニューラル言語モデル作成のサンプルコードを解説してみた](http://qiita.com/GushiSnow/private/b34da4962dd930d1487a)\n",
    "\n"
   ]
  },
  {
   "cell_type": "markdown",
   "metadata": {},
   "source": [
    "## 1.各種ライブラリ導入"
   ]
  },
  {
   "cell_type": "markdown",
   "metadata": {},
   "source": [
    "Chainerの言語処理では多数のライブラリを導入します。\n",
    "\n"
   ]
  },
  {
   "cell_type": "code",
   "execution_count": 1,
   "metadata": {
    "collapsed": false
   },
   "outputs": [],
   "source": [
    "import time\n",
    "import math\n",
    "import sys\n",
    "import pickle\n",
    "import copy\n",
    "import os\n",
    "import re\n",
    "\n",
    "import numpy as np\n",
    "from chainer import cuda, Variable, FunctionSet, optimizers\n",
    "import chainer.functions as F"
   ]
  },
  {
   "cell_type": "markdown",
   "metadata": {},
   "source": [
    "`導入するライブラリの代表例は下記です。\n",
    "\n",
    "* `numpy`: 行列計算などの複雑な計算を行なうライブラリ\n",
    "* `chainer`: Chainerの導入\n"
   ]
  },
  {
   "cell_type": "markdown",
   "metadata": {},
   "source": [
    "## 2.初期設定"
   ]
  },
  {
   "cell_type": "markdown",
   "metadata": {},
   "source": [
    "下記を設定しています。\n",
    "* 学習回数：n_epochs\n",
    "* ニューラルネットのユニット数：n_units\n",
    "* 確率的勾配法に使用するデータの数：batchsize\n",
    "* 学習に使用する文字列の長さ：bprop_len\n",
    "* 勾配法で使用する敷居値：grad_clip\n",
    "* 学習データの格納場所：data_dir\n",
    "* モデルの出力場所：checkpoint_dir\n",
    "\n"
   ]
  },
  {
   "cell_type": "code",
   "execution_count": 2,
   "metadata": {
    "collapsed": false
   },
   "outputs": [],
   "source": [
    "#-------------Explain7 in the Qiita-------------\n",
    "n_epochs    = 30\n",
    "n_units     = 625\n",
    "batchsize   = 100\n",
    "bprop_len   = 10\n",
    "grad_clip   = 0.5\n",
    "data_dir = \"data_hands_on\"\n",
    "checkpoint_dir = \"cv\"\n",
    "#-------------Explain7 in the Qiita-------------"
   ]
  },
  {
   "cell_type": "markdown",
   "metadata": {},
   "source": [
    "## 3.データ入力"
   ]
  },
  {
   "cell_type": "markdown",
   "metadata": {},
   "source": [
    "学習用にダウンロードしたファイルをプログラムに読ませる処理を関数化しています\n",
    "文字列の場合は通常のデータと異なり、数字ベクトル化する必要があります。\n",
    "\n",
    "* 学習データをテキスト形式で読み込んでいます。\n",
    "* ソースコードを単語で扱えるようにsource_to_wordsのメソッドで分割しています。\n",
    "* 文字データを確保するための行列を定義しています。\n",
    "* データは単語をキー、語彙数の連番idを値とした辞書データにして行列データセットに登録しています。\n",
    "\n",
    "学習データ、単語の長さ、語彙数を取得しています。\n",
    "上記をそれぞれ行列データとして保持しています。\n"
   ]
  },
  {
   "cell_type": "code",
   "execution_count": 3,
   "metadata": {
    "collapsed": false
   },
   "outputs": [
    {
     "name": "stdout",
     "output_type": "stream",
     "text": [
      "data_hands_on/angular.js\n",
      "corpus length: 812928\n",
      "vocab size: 6411\n",
      "frequent words\n",
      "[(')', 71416), ('(', 71416), (';', 50808), (\"'\", 43648), (',', 43528), ('}', 32528), ('{', 32456), ('=', 27584), ('$', 27024), ('\"', 21000), (':', 16448), ('function', 12808), (']', 10616), ('[', 10600), ('var', 10160), ('if', 9808), ('return', 8192), ('!', 5424), ('value', 5296), ('element', 4288), ('0', 4216), ('+', 3888), ('>', 3736), ('scope', 3216), ('name', 3176), ('&&', 3056), ('||', 3024), ('?', 2928), ('i', 2704), ('===', 2544), ('key', 2360), ('else', 2344), ('1', 2256), ('true', 2192), ('expect', 1984), ('name=', 1912), ('==', 1848), ('this.', 1832), ('false', 1544), ('null', 1440), ('</file>', 1440), ('<file', 1440), ('ctrl.', 1280), ('locals', 1040), ('for', 1024), ('/', 1000), ('type=', 992), ('in', 984), ('forEach', 960), ('++', 952)]\n",
      "rarely words\n",
      "[('Trying', 8), ('EVENT_HANDLER_ATTR_REGEXP', 8), ('options.parentBoundTranscludeFn', 8), ('bindings.push', 8), ('resourceUrl', 8), ('dateFilter.', 8), ('firstThurs.getDate', 8), ('GGGG', 8), ('.off', 8), ('this.label', 8), ('source.lastIndex', 8), ('self.addOption', 8), ('simple-form', 8), ('node.length', 8), ('EMAIL_REGEXP.test', 8), ('script.async', 8), ('wrapMap.tfoot', 8), ('this.startSymbol', 8), ('updated', 8), ('arg.replace', 8), ('ng-jq=', 8), ('ASTCompiler.prototype', 8), ('templateNode', 8), ('on=', 8), ('February', 8), ('match.pathname', 8), ('datetimelocal', 8), ('filteredText', 8), ('existingDate.getHours', 8), ('bottom</a>', 8), ('fraction.substr', 8), ('exceed', 8), ('attrs.name', 8), ('\\\\s+|^', 8), ('path.toString', 8), ('val.then', 8), ('ctrl.counter', 8), ('wrapMap.colgroup', 8), ('index&1', 8), ('CLASS_DIRECTIVE_REGEXP.exec', 8), ('lhs.name', 8), ('thead', 8), ('\\\\d+\\\\', 8), ('inputType.text', 8), ('expected.substring', 8), ('ignore', 8), ('first|\\\\', 8), ('this.path', 8), ('animate.move', 8), ('interpolating', 8)]\n"
     ]
    }
   ],
   "source": [
    "# input data\n",
    "#-------------Explain1 in the Qiita-------------\n",
    "def source_to_words(source):\n",
    "    line = source.replace(\"¥n\", \" \").replace(\"¥t\", \" \")\n",
    "    for spacer in [\"(\", \")\", \"{\", \"}\", \"[\", \"]\", \",\", \";\", \":\", \"++\", \"!\", \"$\", '\"', \"'\"]:\n",
    "        line = line.replace(spacer, \" \" + spacer + \" \")\n",
    "    \n",
    "    words = [w.strip() for w in line.split()]\n",
    "    return words\n",
    "\n",
    "def load_data():\n",
    "    vocab = {}\n",
    "    print ('%s/angular.js'% data_dir)\n",
    "    source = open('%s/angular_full_remake.js' % data_dir, 'r').read()\n",
    "    words = source_to_words(source)\n",
    "    freq = {}\n",
    "    dataset = np.ndarray((len(words),), dtype=np.int32)\n",
    "    for i, word in enumerate(words):\n",
    "        if word not in vocab:\n",
    "            vocab[word] = len(vocab)\n",
    "            freq[word] = 0\n",
    "        dataset[i] = vocab[word]\n",
    "        freq[word] += 1\n",
    "\n",
    "    print('corpus length:', len(words))\n",
    "    print('vocab size:', len(vocab))\n",
    "    return dataset, words, vocab, freq\n",
    "#-------------Explain1 in the Qiita-------------\n",
    "\n",
    "if not os.path.exists(checkpoint_dir):\n",
    "    os.mkdir(checkpoint_dir)\n",
    "\n",
    "train_data, words, vocab, freq = load_data()\n",
    "\n",
    "for f in [\"frequent\", \"rarely\"]:\n",
    "    print(\"{0} words\".format(f))\n",
    "    print(sorted(freq.items(), key=lambda i: i[1], reverse=True if f == \"frequent\" else False)[:50])"
   ]
  },
  {
   "cell_type": "markdown",
   "metadata": {},
   "source": [
    "## 4.リカレントニューラル言語モデル設定(ハンズオン）"
   ]
  },
  {
   "cell_type": "markdown",
   "metadata": {},
   "source": [
    "RNNLM(リカレントニューラル言語モデルの設定を行っています）\n",
    "この部分で自由にモデルを変えることが出来ます。\n",
    "この部分でリカレントニューラル言語モデル独特の特徴を把握してもらうことが目的です。\n",
    "\n",
    "* EmbedIDで行列変換を行い、疎なベクトルを密なベクトルに変換しています。辞書データを、入力ユニット数分のデータに変換する処理（潜在ベクトル空間への変換）を行っています。\n",
    "* 出力が4倍の理由は入力層、入力制限層、出力制限層、忘却層をLSTMでは入力に使用するためです。LSTMの魔法の工夫について知りたい方は下記をご覧下さい。\n",
    "http://www.slideshare.net/nishio/long-shortterm-memory\n",
    "* `h1_in   = self.l1_x(F.dropout(h0, ratio=dropout_ratio, train=train)) + self.l1_h(state['h1'])`は隠れ層に前回保持した隠れ層の状態を入力することによってLSTMを実現しています。\n",
    "* `F.dropout`は過去の情報を保持しながらどれだけのdropoutでユニットを削るかを表しています。これにより過学習するのを抑えています。\n",
    " Drop outについては下記をご覧下さい。\n",
    "\n",
    " http://olanleed.hatenablog.com/entry/2013/12/03/010945\n",
    "\n",
    "* `c1, h1  = F.lstm(state['c1'], h1_in)`はlstmと呼ばれる魔法の工夫によってリカレントニューラルネットがメモリ破綻を起こさずにいい感じで学習するための工夫です。詳しく知りたい人は下記をご覧下さい。\n",
    "* `return state, F.softmax_cross_entropy(y, t)`は予測した文字と実際の文字を比較して損失関数を更新している所になります。ソフトマックス関数を使用している理由は出力層の一つ前の層の全入力を考慮して出力を決定できるので一般的に出力層の計算にはソフトマックス関数が使用されます。\n",
    "* 予測を行なうメソッドも実装しており、入力されたデータ、状態を元に次の文字列と状態を返すような関数になっています。\n",
    "* モデルの初期化を行なう関数もここで定義しています。\n",
    "\n",
    "下記をコーディングして下さい！！！！\n"
   ]
  },
  {
   "cell_type": "code",
   "execution_count": 8,
   "metadata": {
    "collapsed": false,
    "scrolled": true
   },
   "outputs": [],
   "source": [
    "#-------------Explain2 in the Qiita-------------\n",
    "class CharRNN(FunctionSet):\n",
    "\n",
    "    \"\"\"\n",
    "    ニューラルネットワークを定義している部分です。\n",
    "    上から順に入力された辞書ベクトル空間を隠れ層のユニット数に変換し、次に隠れ層の入\n",
    "    力と隠れ層を設定しています。\n",
    "    同様の処理を2層にも行い、出力層では語彙数に修正して出力しています。\n",
    "    なお最初に設定するパラメータは-0.08から0.08の間でランダムに設定しています。\n",
    "    \"\"\"\n",
    "\n",
    "    def __init__(self, n_vocab, n_units):\n",
    "        \"\"\"\n",
    "        順伝搬の記述です。\n",
    "        順伝搬の入力をVariableで定義し、入力と答えを渡しています。\n",
    "        入力層を先ほど定義したembedを用います。\n",
    "        隠れ層の入力には、先ほど定義したl1_xを用いて、引数にdropout、隠れ層の状態を渡して\n",
    "        います。\n",
    "        lstmに隠れ層第1層の状態とh1_inを渡します。\n",
    "        2層目も同様に記述し、出力層は状態を渡さずに定義します。\n",
    "        次回以降の入力に使用するため各状態は保持しています。\n",
    "        出力されたラベルと答えのラベル比較し、損失を返すのと状態を返しています。\n",
    "        \"\"\"\n",
    "        super(CharRNN, self).__init__(\n",
    "            embed = F.EmbedID(n_vocab, n_units),\n",
    "            l1_x = F.Linear(n_units, 4*n_units),\n",
    "            l1_h = F.Linear(n_units, 4*n_units),\n",
    "            l2_h = F.Linear(n_units, 4*n_units),\n",
    "            l2_x = F.Linear(n_units, 4*n_units),\n",
    "            l3   = F.Linear(n_units, n_vocab),\n",
    "        )\n",
    "        for param in self.parameters:\n",
    "            param[:] = np.random.uniform(-0.08, 0.08, param.shape)\n",
    "\n",
    "    def forward_one_step(self, x_data, y_data, state, train=True, dropout_ratio=0.5):\n",
    "        \"\"\"\n",
    "        dropoutの記述を外して予測用のメソッドとして記述しています。\n",
    "        dropoutにはtrainという引数が存在し、trainの引数をfalseにしておくと動作しない\n",
    "        ので、予測の時は渡す引数を変えて学習と予測を変えても良いですが、今回は明示的に分る\n",
    "        ように分けて記述しました。\n",
    "        \"\"\"\n",
    "        x = Variable(x_data, volatile=not train)\n",
    "        t = Variable(y_data, volatile=not train)\n",
    "\n",
    "        h0      = self.embed(x)\n",
    "        h1_in   = self.l1_x(F.dropout(h0, ratio=dropout_ratio, train=train)) + self.l1_h(state['h1'])\n",
    "        c1, h1  = F.lstm(state['c1'], h1_in)\n",
    "        h2_in   = self.l2_x(F.dropout(h1, ratio=dropout_ratio, train=train)) + self.l2_h(state['h2'])\n",
    "        c2, h2  = F.lstm(state['c2'], h2_in)\n",
    "        y       = self.l3(F.dropout(h2, ratio=dropout_ratio, train=train))\n",
    "        state   = {'c1': c1, 'h1': h1, 'c2': c2, 'h2': h2}\n",
    "\n",
    "        return state, F.softmax_cross_entropy(y, t)\n",
    "\n",
    "    def predict(self, x_data, state):\n",
    "        x = Variable(x_data, volatile=True)\n",
    "\n",
    "        h0      = self.embed(x)\n",
    "        h1_in   = self.l1_x(h0) + self.l1_h(state['h1'])\n",
    "        c1, h1  = F.lstm(state['c1'], h1_in)\n",
    "        h2_in   = self.l2_x(h1) + self.l2_h(state['h2'])\n",
    "        c2, h2  = F.lstm(state['c2'], h2_in)\n",
    "        y       = self.l3(h2)\n",
    "        state   = {'c1': c1, 'h1': h1, 'c2': c2, 'h2': h2}\n",
    "\n",
    "        return state, F.softmax(y)\n",
    "\n",
    "\n",
    "\"\"\"\n",
    "状態の初期化です。\n",
    "\"\"\"\n",
    "\n",
    "def make_initial_state(n_units, batchsize=100, train=True):\n",
    "    return {name: Variable(np.zeros((batchsize, n_units), dtype=np.float32),\n",
    "            volatile=not train)\n",
    "            for name in ('c1', 'h1', 'c2', 'h2')}\n",
    "\n",
    "#-------------Explain2 in the Qiita-------------"
   ]
  },
  {
   "cell_type": "markdown",
   "metadata": {},
   "source": [
    "RNNLM(リカレントニューラル言語モデルの設定を行っています）\n",
    "\n",
    "* 作成したリカレントニューラル言語モデルを導入しています。\n",
    "* 最適化の手法はRMSpropを使用\n",
    "http://qiita.com/skitaoka/items/e6afbe238cd69c899b2a\n",
    "* RMSpropは勾配がマイナスであれば重みに加算、正であれば重みを減算する手法です。勾配の加算、減算の度合いを表しています。基本的に勾配が急になれなるほど緩やかに演算が行なわれるように工夫がされています。alphaは過去の勾配による影響を減衰させるパラメータで、lrは勾配の影響を減衰させるパラメータです。epsは０割を防ぐために導入されています。\n",
    "* 初期のパラメータを-0.1〜0.1の間で与えています。\n"
   ]
  },
  {
   "cell_type": "code",
   "execution_count": 9,
   "metadata": {
    "collapsed": false,
    "scrolled": true
   },
   "outputs": [
    {
     "name": "stderr",
     "output_type": "stream",
     "text": [
      "/Users/yoshi/.pyenv/versions/anaconda3-2.3.0/lib/python3.4/site-packages/chainer/function_set.py:46: FutureWarning: 'collect_parameters' is deprecated. You can pass FunctionSet itself to 'optimizer.setup'\n",
      "  warnings.warn(msg, FutureWarning)\n"
     ]
    }
   ],
   "source": [
    "# Prepare RNNLM model\n",
    "model = CharRNN(len(vocab), n_units)\n",
    "\n",
    "optimizer = optimizers.RMSprop(lr=2e-3, alpha=0.95, eps=1e-8)\n",
    "optimizer.setup(model.collect_parameters())"
   ]
  },
  {
   "cell_type": "markdown",
   "metadata": {},
   "source": [
    "## 5.学習を始める前の設定"
   ]
  },
  {
   "cell_type": "markdown",
   "metadata": {},
   "source": [
    "* 学習データのサイズを取得 \n",
    "* ジャンプの幅を設定（順次学習しない）\n",
    "* パープレキシティを0で初期化 \n",
    "* 最初の時間情報を取得 \n",
    "* 初期状態を現在の状態に付与 \n",
    "* 状態の初期化 \n",
    "* 損失を0で初期化"
   ]
  },
  {
   "cell_type": "code",
   "execution_count": 10,
   "metadata": {
    "collapsed": false
   },
   "outputs": [],
   "source": [
    "whole_len    = train_data.shape[0]\n",
    "jump         = whole_len // batchsize\n",
    "epoch        = 0\n",
    "start_at     = time.time()\n",
    "cur_at       = start_at\n",
    "state        = make_initial_state(n_units, batchsize=batchsize)\n",
    "accum_loss   = Variable(np.zeros((), dtype=np.float32))\n",
    "cur_log_perp = np.zeros(())"
   ]
  },
  {
   "cell_type": "markdown",
   "metadata": {},
   "source": [
    "## 6.パラメータ更新方法（ミニバッチ学習）"
   ]
  },
  {
   "cell_type": "markdown",
   "metadata": {},
   "source": [
    "* ミニバッチを用いて学習している。\n",
    "* `x_batch = np.array([train_data[(jump * j + i) % whole_len] for j in range(batchsize)])`はややこしいので下記の図を用いて説明します。\n",
    "* 下図のように縦に文字が入っている配列があるとします。\n",
    "* jのインデックスはjump(全データのサイズをバッチサイズで割った数)を掛けている各バッチサイズ分移動させる役目を持ち、iのインデックスはバッチサイズ内で移動することを表しています。\n",
    "* whole_lenで余りを出しているのは(jump * j + i)がデータのサイズを超えるので、最初の位置に戻すために行なっている。\n",
    "\n",
    "![](./pictures/Chainer_data.jpg)\n",
    "* `y_batch = np.array([train_data[(jump * j + i + 1) % whole_len] for j in range(batchsize)])`はxの一つ先の文字を与えて学習させて\n",
    "* `state, loss_i = model.forward_one_step(x_batch, y_batch, state, dropout_ratio=0.5)`は損失と状態を計算しています。ここで過学習を防ぐdropアウトの率も設定可能です。\n",
    "* `if (i + 1) % bprop_len == 0`はどれだけ過去の文字を保持するかを表しています。bprop_lenが大きければ大きいほど過去の文字を保持できますが、メモリ破綻を起こす可能性があるのでタスクによって適切な数値に設定する必要があります。\n",
    "* bprop_lenの詳細について[truncate](http://kiyukuta.github.io/2013/12/09/mlac2013_day9_recurrent_neural_network_language_model.html#recurrent-neural-network)\n",
    "* `optimizer.clip_grads(grad_clip)`は正則化をかけており、過学習を防いでいます。\n"
   ]
  },
  {
   "cell_type": "code",
   "execution_count": 13,
   "metadata": {
    "collapsed": false
   },
   "outputs": [
    {
     "name": "stdout",
     "output_type": "stream",
     "text": [
      "iter 50 training perplexity: 18.75 \n",
      "iter 100 training perplexity: 15.29 \n",
      "iter 150 training perplexity: 18.65 \n",
      "iter 200 training perplexity: 20.54 \n",
      "iter 250 training perplexity: 14.14 \n",
      "iter 300 training perplexity: 13.60 \n",
      "iter 350 training perplexity: 15.65 \n",
      "iter 400 training perplexity: 16.20 \n",
      "iter 450 training perplexity: 16.42 \n",
      "iter 500 training perplexity: 18.90 \n",
      "iter 550 training perplexity: 15.87 \n",
      "iter 600 training perplexity: 14.73 \n",
      "iter 650 training perplexity: 15.39 \n",
      "iter 700 training perplexity: 14.28 \n",
      "iter 750 training perplexity: 18.44 \n",
      "iter 800 training perplexity: 20.46 \n"
     ]
    },
    {
     "ename": "KeyboardInterrupt",
     "evalue": "",
     "output_type": "error",
     "traceback": [
      "\u001b[0;31m---------------------------------------------------------------------------\u001b[0m",
      "\u001b[0;31mKeyboardInterrupt\u001b[0m                         Traceback (most recent call last)",
      "\u001b[0;32m<ipython-input-13-46a475ad8c21>\u001b[0m in \u001b[0;36m<module>\u001b[0;34m()\u001b[0m\n\u001b[1;32m     18\u001b[0m \u001b[0;34m\u001b[0m\u001b[0m\n\u001b[1;32m     19\u001b[0m         \u001b[0moptimizer\u001b[0m\u001b[0;34m.\u001b[0m\u001b[0mzero_grads\u001b[0m\u001b[0;34m(\u001b[0m\u001b[0;34m)\u001b[0m\u001b[0;34m\u001b[0m\u001b[0m\n\u001b[0;32m---> 20\u001b[0;31m         \u001b[0maccum_loss\u001b[0m\u001b[0;34m.\u001b[0m\u001b[0mbackward\u001b[0m\u001b[0;34m(\u001b[0m\u001b[0;34m)\u001b[0m\u001b[0;34m\u001b[0m\u001b[0m\n\u001b[0m\u001b[1;32m     21\u001b[0m         \u001b[0maccum_loss\u001b[0m\u001b[0;34m.\u001b[0m\u001b[0munchain_backward\u001b[0m\u001b[0;34m(\u001b[0m\u001b[0;34m)\u001b[0m  \u001b[0;31m# truncate\u001b[0m\u001b[0;34m\u001b[0m\u001b[0m\n\u001b[1;32m     22\u001b[0m         \u001b[0maccum_loss\u001b[0m \u001b[0;34m=\u001b[0m \u001b[0mVariable\u001b[0m\u001b[0;34m(\u001b[0m\u001b[0mnp\u001b[0m\u001b[0;34m.\u001b[0m\u001b[0mzeros\u001b[0m\u001b[0;34m(\u001b[0m\u001b[0;34m(\u001b[0m\u001b[0;34m)\u001b[0m\u001b[0;34m,\u001b[0m \u001b[0mdtype\u001b[0m\u001b[0;34m=\u001b[0m\u001b[0mnp\u001b[0m\u001b[0;34m.\u001b[0m\u001b[0mfloat32\u001b[0m\u001b[0;34m)\u001b[0m\u001b[0;34m)\u001b[0m\u001b[0;34m\u001b[0m\u001b[0m\n",
      "\u001b[0;32m/Users/yoshi/.pyenv/versions/anaconda3-2.3.0/lib/python3.4/site-packages/chainer/variable.py\u001b[0m in \u001b[0;36mbackward\u001b[0;34m(self, retain_grad)\u001b[0m\n\u001b[1;32m    178\u001b[0m             \u001b[0mout_grad\u001b[0m \u001b[0;34m=\u001b[0m \u001b[0mtuple\u001b[0m\u001b[0;34m(\u001b[0m\u001b[0;32mNone\u001b[0m \u001b[0;32mif\u001b[0m \u001b[0my\u001b[0m \u001b[0;32mis\u001b[0m \u001b[0;32mNone\u001b[0m \u001b[0;32melse\u001b[0m \u001b[0my\u001b[0m\u001b[0;34m.\u001b[0m\u001b[0mgrad\u001b[0m \u001b[0;32mfor\u001b[0m \u001b[0my\u001b[0m \u001b[0;32min\u001b[0m \u001b[0moutputs\u001b[0m\u001b[0;34m)\u001b[0m\u001b[0;34m\u001b[0m\u001b[0m\n\u001b[1;32m    179\u001b[0m             \u001b[0;32mwith\u001b[0m \u001b[0mcuda\u001b[0m\u001b[0;34m.\u001b[0m\u001b[0mget_device\u001b[0m\u001b[0;34m(\u001b[0m\u001b[0;34m*\u001b[0m\u001b[0;34m(\u001b[0m\u001b[0min_data\u001b[0m \u001b[0;34m+\u001b[0m \u001b[0mout_grad\u001b[0m\u001b[0;34m)\u001b[0m\u001b[0;34m)\u001b[0m\u001b[0;34m:\u001b[0m\u001b[0;34m\u001b[0m\u001b[0m\n\u001b[0;32m--> 180\u001b[0;31m                 \u001b[0mgxs\u001b[0m \u001b[0;34m=\u001b[0m \u001b[0mfunc\u001b[0m\u001b[0;34m.\u001b[0m\u001b[0mbackward\u001b[0m\u001b[0;34m(\u001b[0m\u001b[0min_data\u001b[0m\u001b[0;34m,\u001b[0m \u001b[0mout_grad\u001b[0m\u001b[0;34m)\u001b[0m\u001b[0;34m\u001b[0m\u001b[0m\n\u001b[0m\u001b[1;32m    181\u001b[0m             \u001b[0;32massert\u001b[0m \u001b[0mlen\u001b[0m\u001b[0;34m(\u001b[0m\u001b[0mgxs\u001b[0m\u001b[0;34m)\u001b[0m \u001b[0;34m==\u001b[0m \u001b[0mlen\u001b[0m\u001b[0;34m(\u001b[0m\u001b[0min_data\u001b[0m\u001b[0;34m)\u001b[0m\u001b[0;34m\u001b[0m\u001b[0m\n\u001b[1;32m    182\u001b[0m \u001b[0;34m\u001b[0m\u001b[0m\n",
      "\u001b[0;32m/Users/yoshi/.pyenv/versions/anaconda3-2.3.0/lib/python3.4/site-packages/chainer/functions/connection/linear.py\u001b[0m in \u001b[0;36mbackward\u001b[0;34m(self, x, gy)\u001b[0m\n\u001b[1;32m    119\u001b[0m         \u001b[0;32mif\u001b[0m \u001b[0mself\u001b[0m\u001b[0;34m.\u001b[0m\u001b[0mgb\u001b[0m \u001b[0;32mis\u001b[0m \u001b[0;32mnot\u001b[0m \u001b[0;32mNone\u001b[0m\u001b[0;34m:\u001b[0m\u001b[0;34m\u001b[0m\u001b[0m\n\u001b[1;32m    120\u001b[0m             \u001b[0mself\u001b[0m\u001b[0;34m.\u001b[0m\u001b[0mgb\u001b[0m \u001b[0;34m+=\u001b[0m \u001b[0mgy\u001b[0m\u001b[0;34m[\u001b[0m\u001b[0;36m0\u001b[0m\u001b[0;34m]\u001b[0m\u001b[0;34m.\u001b[0m\u001b[0msum\u001b[0m\u001b[0;34m(\u001b[0m\u001b[0;36m0\u001b[0m\u001b[0;34m)\u001b[0m\u001b[0;34m\u001b[0m\u001b[0m\n\u001b[0;32m--> 121\u001b[0;31m         \u001b[0;32mreturn\u001b[0m \u001b[0mgy\u001b[0m\u001b[0;34m[\u001b[0m\u001b[0;36m0\u001b[0m\u001b[0;34m]\u001b[0m\u001b[0;34m.\u001b[0m\u001b[0mdot\u001b[0m\u001b[0;34m(\u001b[0m\u001b[0mself\u001b[0m\u001b[0;34m.\u001b[0m\u001b[0mW\u001b[0m\u001b[0;34m)\u001b[0m\u001b[0;34m.\u001b[0m\u001b[0mreshape\u001b[0m\u001b[0;34m(\u001b[0m\u001b[0mx\u001b[0m\u001b[0;34m[\u001b[0m\u001b[0;36m0\u001b[0m\u001b[0;34m]\u001b[0m\u001b[0;34m.\u001b[0m\u001b[0mshape\u001b[0m\u001b[0;34m)\u001b[0m\u001b[0;34m,\u001b[0m\u001b[0;34m\u001b[0m\u001b[0m\n\u001b[0m\u001b[1;32m    122\u001b[0m \u001b[0;34m\u001b[0m\u001b[0m\n\u001b[1;32m    123\u001b[0m \u001b[0;34m\u001b[0m\u001b[0m\n",
      "\u001b[0;31mKeyboardInterrupt\u001b[0m: "
     ]
    }
   ],
   "source": [
    "N = 50\n",
    "\n",
    "for i in range(int(jump * n_epochs)):\n",
    "    #-------------Explain4 in the Qiita-------------\n",
    "    x_batch = np.array([train_data[(jump * j + i) % whole_len]\n",
    "                        for j in range(batchsize)])\n",
    "    y_batch = np.array([train_data[(jump * j + i + 1) % whole_len]\n",
    "                        for j in range(batchsize)])\n",
    "\n",
    "    state, loss_i = model.forward_one_step(x_batch, y_batch, state, dropout_ratio=0.7)\n",
    "    accum_loss   += loss_i\n",
    "    cur_log_perp += loss_i.data.reshape(())\n",
    "\n",
    "    if (i + 1) % bprop_len == 0:  # Run truncated BPTT\n",
    "        now = time.time()\n",
    "        cur_at = now\n",
    "        #print('{}/{}, train_loss = {}, time = {:.2f}'.format((i + 1)/bprop_len, jump, accum_loss.data / bprop_len, now-cur_at))\n",
    "\n",
    "        optimizer.zero_grads()\n",
    "        accum_loss.backward()\n",
    "        accum_loss.unchain_backward()  # truncate\n",
    "        accum_loss = Variable(np.zeros((), dtype=np.float32))\n",
    "\n",
    "        optimizer.clip_grads(grad_clip)\n",
    "        optimizer.update()\n",
    "        \n",
    "    if (i + 1) % N == 0:\n",
    "        perp = math.exp(cuda.to_cpu(cur_log_perp) / N)\n",
    "        print('iter {} training perplexity: {:.2f} '.format(i + 1, perp))\n",
    "        fn = ('%s/charrnn_epoch_%i.chainermodel' % (checkpoint_dir, epoch))\n",
    "        pickle.dump(copy.deepcopy(model).to_cpu(), open(fn, 'wb'))\n",
    "        cur_log_perp.fill(0)\n",
    "\n",
    "    if (i + 1) % jump == 0:\n",
    "        epoch += 1\n",
    "\n",
    "    #-------------Explain4 in the Qiita-------------\n",
    "\n",
    "    sys.stdout.flush()\n"
   ]
  },
  {
   "cell_type": "markdown",
   "metadata": {},
   "source": [
    "## 7.言語の予測"
   ]
  },
  {
   "cell_type": "markdown",
   "metadata": {
    "collapsed": true
   },
   "source": [
    "予測では作成されたモデル変更と文字列予測を行ないます。\n",
    "\n",
    "* モデルを変更する。\n",
    "* 文字列を予測する。\n",
    "\n",
    "予測するモデルの変更はここではiPython notebook内の下記のコードを変更します。\n",
    "作成されたモデルはcvフォルダの中にあるので\n",
    "あまり数は出来ていませんが、確認して見て下さい。"
   ]
  },
  {
   "cell_type": "code",
   "execution_count": 14,
   "metadata": {
    "collapsed": false
   },
   "outputs": [],
   "source": [
    "# load model\n",
    "#-------------Explain6 in the Qiita-------------\n",
    "model = pickle.load(open(\"cv/charrnn_epoch_0.chainermodel\", 'rb'))\n",
    "#-------------Explain6 in the Qiita-------------\n",
    "n_units = model.embed.W.shape[1]\n"
   ]
  },
  {
   "cell_type": "markdown",
   "metadata": {},
   "source": [
    "* `state, prob = model.predict(prev_char, state)`で予測された確率と状態を取得しています。次の予測にも使用するため状態も取得しています。\n",
    "* `index = np.argmax(cuda.to_cpu(prob.data))`は`cuda.to_cpu(prob.data)`部分で各単語の重み確率を取得できるため、その中で一番確率が高いものが予測された文字なのでその文字のインデックスを返すようにしています。\n",
    "* `sys.stdout.write(ivocab[index] + \" \")`で予測した文字を出力するための準備です。\n",
    "* `prev_char = np.array([index], dtype=np.int32)`は次の予測に使用するために過去の文字を保持するのに使用しています。"
   ]
  },
  {
   "cell_type": "code",
   "execution_count": 15,
   "metadata": {
    "collapsed": false
   },
   "outputs": [
    {
     "name": "stdout",
     "output_type": "stream",
     "text": [
      "templateElement ;\n",
      "function JQLite ( scope , context , options && instance , validationErrorKey , instance , validationErrorKey [ validationErrorKey ( name + 1 + 1 ] || ) === [ 2 ) , ' ] \" , options , options ;\n",
      "}\n",
      "if = isArray [ i ) ) { if ! isArray $ array && ctrl. ( ) ;\n",
      "}\n",
      "}\n",
      "if = ( validationErrorKey ) .toEqual = [ 0 ;\n",
      "var length ;\n",
      "var $ $ isolateBindings ;\n",
      "if [ ! ( ] === null === 0 , length || == ' && ( ) { return $ destroy [ 0 ) . }\n",
      ", controller + true ] ;\n",
      "$ scope. \" $ animateQueue.push \" ctrl. ' name= \" style.css , ' The : model : the { { }\n",
      "}\n",
      "] \" , { value = ' John : }\n",
      "}\n",
      ", the The The the name , value to last }\n",
      "to </div> </file> </example> <example ng-controller= \" ExampleController \" [ \" ng-controller= : the { 1 : value ] : the value }\n",
      ";\n",
      "}\n",
      ";\n",
      "if $ this.peek $ error [ name + 0 || ] ) ;\n",
      "var result ( ) , i = false ) = undefined ;\n",
      "var result ;\n",
      "return [ ] + ( ' + ' + \" ] ;\n",
      "\" ) . $ inject ;\n",
      "function ( value , key [ i ) || key === \" \" + 1 && key ) && return ! [ \" ] ;\n",
      "if $ ( key ) return ;\n",
      "var location. [ name ] = value || ( value + 0 && ( ' / \" || ' \" in ' + ' && \" ! ' && \" + \" ) + ' ' ) + value ;\n",
      "}\n",
      "}\n",
      ", ' : : function to to to to not the model ) if ( typeof newInputValue === \" ] ' , obj = key , key , obj && ! ! - ) if ( isArray $ options ) return ' false + ;\n",
      "var location. = [ ] ;\n",
      "for ( if ) { i : function $ ( event , options && ( obj [ 2 || 0 ) ) ;\n",
      "return value ? ' $ ' , function ( scope && key || right , options , obj , validationErrorKey ) ) if ! isArray $ obj && ( key ! ( 0 || obj && key && 0 === ' - $ ) ' || key [ 1 || 0 && ! ( length && ( ( isObject [ 2 ) === ' ' , 0 || ' - : ' + name ) && isArray [ key || 1 ) { var length [ 2 || length || ( key ! ( 0 + 1 + 1 + == \" ] || ( ) === [ 1 + name [ key , name || ' ] \" && ' - ' ) { }\n",
      "var instance : { }\n",
      ";\n",
      "var result , { var length , $ location. || ( scope , undefined + ' $ / ) , controller ;\n",
      "if ( ! this.peek || ' ( ) ' + key , obj , undefined ) ;\n",
      "var instance ( 0 [ 0 || 0 ] ;\n",
      "var location. : ) = ( this , / ( ' ' , 0 ] , function ! ) if ! isObject ) ;\n",
      "if [ key && = ) ;\n",
      "for $ if = this.peek $ $ parentForm. ) if = $ pending ;\n",
      "}\n",
      "return this [ 1 + ] = $ parse ;\n",
      "var bindings ;\n",
      "for [ key < 1 , validationErrorKey ) ;\n",
      "}\n",
      "var length = this , $ $ parentForm. ( scope = [ ] , / || ) ( ) ;\n",
      "}\n",
      ", ] , undefined [ key ;\n",
      "i : 0 , $ interpolate : function || ) { return ;\n",
      "function $ inject = function ! element ) return $ parse ( ) ( scope || function ( event ) if = ! isArray && validationErrorKey && ! ( ctrl. ! ) ! == 1 && $ length ) return this ;\n",
      "var bindings = ctrl. : ) ( $ scope [ 3 , ] ;\n",
      "}\n",
      ", undefined , function $ ) ( ) ;\n",
      "$ rootScope. ( $ $ sanitizeUri = ctrl. ( error ) ;\n",
      "$ $ parentForm. : ( function ! $ scope [ element && ! ! validationErrorKey && validationErrorKey ! ( $ $ watchDelegate ) { var instance ( scope && $ compileNode || validationErrorKey ( validationErrorKey , true && ( ! $ $ animateQueue.push && validationErrorKey , $ scope && ! ( element [ 1 ] ) ! = null ) ) ) ) = ctrl. $ $ parentForm = undefined + ' / \" ;\n",
      "ctrl. ( $ parse = $ $ parentForm. , pending ) { ctrl. : valid , true : ctrl. }\n",
      ") ( function [ ) if ! $ pending || ( ctrl. ( ) ) .toEqual [ key ) || ' + \" ] ;\n",
      "$ rootScope. = valid ( scope , locals , validationErrorKey [ key + ] ] ;\n",
      "return this ? }\n",
      ") . ;\n",
      "function $ watch $ options ) ;\n",
      "}\n",
      "var instance = { }\n",
      ") , $ watch , $ $ animateQueue.push [ i + ' ? { { 1 + 1 ' + 0 }\n",
      ", 1 : 1 ) ;\n",
      "$ oldUrl [ 1 ) ;\n",
      "if = ! ( ( obj.hasOwnProperty === \" ] \" ) || $ location. [ ] || ( $ element ) return ;\n",
      "return $ destroy [ i + name , name || name ) ;\n",
      "if ( ! ! $ location. ( element [ 0 || 0 || ! ! ! ( key === 1 && ! length === 1 && length && "
     ]
    },
    {
     "data": {
      "text/plain": [
       "<function print>"
      ]
     },
     "execution_count": 15,
     "metadata": {},
     "output_type": "execute_result"
    }
   ],
   "source": [
    "# initialize generator\n",
    "state = make_initial_state(n_units, batchsize=1, train=False)\n",
    "index = np.random.randint(0, len(vocab), 1)[0]\n",
    "ivocab = {v:k for k, v in vocab.items()}\n",
    "sampling_range = 5\n",
    "\n",
    "for i in range(1000):\n",
    "    if ivocab[index] in [\"}\", \";\"]:\n",
    "        sys.stdout.write(ivocab[index] + \"\\n\")\n",
    "    else:\n",
    "        sys.stdout.write(ivocab[index] + \" \")\n",
    "    \n",
    "    #-------------Explain7 in the Qiita-------------\n",
    "    state, prob = model.predict(np.array([index], dtype=np.int32), state)\n",
    "    #index = np.argmax(prob.data)\n",
    "    index = np.random.choice(prob.data.argsort()[0,-sampling_range:][::-1], 1)[0]\n",
    "    #-------------Explain7 in the Qiita-------------\n",
    "\n",
    "print"
   ]
  },
  {
   "cell_type": "code",
   "execution_count": null,
   "metadata": {
    "collapsed": true
   },
   "outputs": [],
   "source": []
  }
 ],
 "metadata": {
  "kernelspec": {
   "display_name": "Python 3",
   "language": "python",
   "name": "python3"
  },
  "language_info": {
   "codemirror_mode": {
    "name": "ipython",
    "version": 3
   },
   "file_extension": ".py",
   "mimetype": "text/x-python",
   "name": "python",
   "nbconvert_exporter": "python",
   "pygments_lexer": "ipython3",
   "version": "3.4.3"
  }
 },
 "nbformat": 4,
 "nbformat_minor": 0
}
